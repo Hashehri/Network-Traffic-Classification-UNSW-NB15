{
 "cells": [
  {
   "cell_type": "markdown",
   "metadata": {},
   "source": [
    "### Import required packages"
   ]
  },
  {
   "cell_type": "code",
   "execution_count": 17,
   "metadata": {},
   "outputs": [],
   "source": [
    "# munging imports\n",
    "import pandas as pd\n",
    "import numpy as np\n",
    "\n",
    "# visualization imports\n",
    "import matplotlib.pyplot as plt\n",
    "import seaborn as sns\n",
    "plt.style.use('fivethirtyeight')\n",
    "\n",
    "\n",
    "\n",
    "# modeling imports\n",
    "from sklearn.linear_model import LogisticRegression\n",
    "from sklearn.model_selection import train_test_split\n",
    "from sklearn import metrics\n",
    "from sklearn.metrics import precision_score, recall_score, accuracy_score, roc_auc_score, f1_score, roc_curve, accuracy_score, auc, confusion_matrix\n",
    "from prettytable import PrettyTable\n",
    "\n",
    "%matplotlib inline"
   ]
  },
  {
   "cell_type": "markdown",
   "metadata": {},
   "source": [
    "### Helper function for plotting"
   ]
  },
  {
   "cell_type": "code",
   "execution_count": 21,
   "metadata": {},
   "outputs": [],
   "source": [
    "def false_alarm_rate(y_true, y_pred):\n",
    "    \"\"\"\n",
    "    This function will return False Alarm Rate for given true and predicted values.\n",
    "    False Alarm Rate is average of False Negetive Rate and False Positive Rate\n",
    "    \"\"\"\n",
    "    tn, fp, fn, tp = confusion_matrix(y_true, y_pred).ravel()\n",
    "    FPR = fp / (fp + tn)  # False positive rate\n",
    "    FNR = fn / (fn + tp)  # False negetive rate\n",
    "    return (FPR+FNR)/2  # False alarm rate\n",
    "\n",
    "def evaluate_result(clf, x_train, y_train, x_test, y_test, model_name):\n",
    "    \"\"\" \n",
    "    Utility function to get result on test data from best found classifier using hyper parameter tuning.\n",
    "    Print the accuracy and False Alarm Rate for both train and test.\n",
    "    Plot confusion matrix of train and test.\n",
    "    \"\"\"\n",
    "    cmap=sns.light_palette(\"blue\")\n",
    "    labels= ['non-attack', 'attack']\n",
    "    \n",
    "    # Training te best model\n",
    "    clf.fit(x_train, y_train)\n",
    "    y_train_pred = clf.predict(x_train)  # prediction on train data\n",
    "    y_test_pred = clf.predict(x_test)  # prediction on test data\n",
    "    \n",
    "    # roc curve\n",
    "    train_fpr, train_tpr, tr_thresholds = roc_curve(y_train, y_train_pred)\n",
    "    test_fpr, test_tpr, te_thresholds = roc_curve(y_test, y_test_pred)\n",
    "    \n",
    "    # Scores of train dataset\n",
    "    train_auc = auc(train_fpr, train_tpr)\n",
    "    train_f1 = f1_score(y_train, y_train_pred)\n",
    "    train_far = false_alarm_rate(y_train, y_train_pred)\n",
    "    train_recall = recall_score(y_train, y_train_pred)\n",
    "    train_precision = precision_score(y_train, y_train_pred)\n",
    "    \n",
    "    # Scores of test dataset\n",
    "    test_auc = auc(test_fpr, test_tpr)\n",
    "    test_f1 = f1_score(y_test, y_test_pred)\n",
    "    test_far = false_alarm_rate(y_test, y_test_pred)\n",
    "    test_recall = recall_score(y_test, y_test_pred)\n",
    "    test_precision = precision_score(y_test, y_test_pred)\n",
    "    \n",
    "    # Printing the result as a table\n",
    "    x = PrettyTable()\n",
    "    x.field_names = ['Dataset', 'Model', 'AUC', 'F1-score', 'Recall', 'Percision','False Alarm Rate']\n",
    "    x.add_row(['Train', model_name, train_auc, train_f1, train_recall, train_precision, train_far])\n",
    "    x.add_row(['Test', model_name, test_auc, test_f1,test_recall, test_precision, test_far])\n",
    "    print(x)\n",
    "\n",
    "    # Plot AUC curve\n",
    "    plt.figure()\n",
    "    plt.plot(train_fpr, train_tpr, label=f\"Train AUC: {train_auc}\")\n",
    "    plt.plot(test_fpr, test_tpr, label=f\"Test AUC: {test_auc}\")\n",
    "    plt.grid()\n",
    "    plt.legend()\n",
    "    plt.show()\n",
    "\n",
    "    # Confusion martix of train and test\n",
    "    # Train confusion matrix\n",
    "    plt.figure(figsize=(16,5))\n",
    "    plt.subplot(1,2,1)\n",
    "    sns.heatmap(confusion_matrix(y_train, y_train_pred),\n",
    "                annot=True, cmap=cmap, fmt='d',\n",
    "                xticklabels=labels, yticklabels=labels)\n",
    "    plt.xlabel(\"Predicted\")\n",
    "    plt.ylabel(\"Actual\")\n",
    "    plt.title(\"Train Confusion Matrix\")\n",
    "\n",
    "    # Test confusion matrix\n",
    "    plt.subplot(1,2,2)\n",
    "    sns.heatmap(confusion_matrix(y_test, y_test_pred),\n",
    "                annot=True, cmap=cmap, fmt='d',\n",
    "                xticklabels=labels, yticklabels=labels)\n",
    "    plt.xlabel(\"Predicted\")\n",
    "    plt.ylabel(\"Actual\")\n",
    "    plt.title(\"Test Confusion Matrix\")\n",
    "    plt.show()\n",
    "    \n",
    "    # Returning scores of test data\n",
    "    return clf, test_auc, test_f1, test_far, test_recall, test_precision"
   ]
  },
  {
   "cell_type": "code",
   "execution_count": 23,
   "metadata": {},
   "outputs": [],
   "source": [
    "train = pd.read_csv('cleaned_train.csv')"
   ]
  },
  {
   "cell_type": "code",
   "execution_count": 24,
   "metadata": {},
   "outputs": [],
   "source": [
    "# Numeric features column names\n",
    "df_numeric = train.select_dtypes(include=np.number)"
   ]
  },
  {
   "cell_type": "markdown",
   "metadata": {},
   "source": [
    "### Split the data to features and target"
   ]
  },
  {
   "cell_type": "code",
   "execution_count": 27,
   "metadata": {},
   "outputs": [
    {
     "data": {
      "text/plain": [
       "Index(['id', 'dur', 'spkts', 'dpkts', 'sbytes', 'dbytes', 'rate', 'sttl',\n",
       "       'dttl', 'sload', 'dload', 'sloss', 'dloss', 'sinpkt', 'dinpkt', 'sjit',\n",
       "       'djit', 'swin', 'stcpb', 'dtcpb', 'dwin', 'tcprtt', 'synack', 'ackdat',\n",
       "       'smean', 'dmean', 'trans_depth', 'response_body_len', 'ct_srv_src',\n",
       "       'ct_state_ttl', 'ct_dst_ltm', 'ct_src_dport_ltm', 'ct_dst_sport_ltm',\n",
       "       'ct_dst_src_ltm', 'is_ftp_login', 'ct_ftp_cmd', 'ct_flw_http_mthd',\n",
       "       'ct_src_ltm', 'ct_srv_dst', 'is_sm_ips_ports', 'label'],\n",
       "      dtype='object')"
      ]
     },
     "execution_count": 27,
     "metadata": {},
     "output_type": "execute_result"
    }
   ],
   "source": [
    "df_numeric.columns"
   ]
  },
  {
   "cell_type": "code",
   "execution_count": 28,
   "metadata": {},
   "outputs": [],
   "source": [
    "X = df_numeric.iloc[:,1:-1]\n",
    "y = df_numeric.iloc[:, -1]"
   ]
  },
  {
   "cell_type": "code",
   "execution_count": 29,
   "metadata": {},
   "outputs": [],
   "source": [
    "X_train, X_val, y_train, y_val = train_test_split(X, y, test_size=0.3, random_state=42 , stratify=y)"
   ]
  },
  {
   "cell_type": "markdown",
   "metadata": {},
   "source": [
    "### Baseline model: linear regression"
   ]
  },
  {
   "cell_type": "code",
   "execution_count": 30,
   "metadata": {},
   "outputs": [
    {
     "name": "stdout",
     "output_type": "stream",
     "text": [
      "+---------+-------+--------------------+--------------------+--------------------+--------------------+---------------------+\n",
      "| Dataset | Model |        AUC         |      F1-score      |       Recall       |     Percision      |   False Alarm Rate  |\n",
      "+---------+-------+--------------------+--------------------+--------------------+--------------------+---------------------+\n",
      "|  Train  |   lr  | 0.7865162860015802 | 0.8987416415402931 | 0.9669611434317317 | 0.8395136146331325 | 0.21348371399841987 |\n",
      "|   Test  |   lr  | 0.785529408283158  | 0.8986736162433389 | 0.9679635784710778 | 0.8386409834478753 | 0.21447059171684205 |\n",
      "+---------+-------+--------------------+--------------------+--------------------+--------------------+---------------------+\n"
     ]
    },
    {
     "data": {
      "image/png": "[encoded data removed]",
      "text/plain": [
       "<Figure size 432x288 with 1 Axes>"
      ]
     },
     "metadata": {
      "needs_background": "light"
     },
     "output_type": "display_data"
    },
    {
     "data": {
      "image/png": "[encoded data removed]",
      "text/plain": [
       "<Figure size 1152x360 with 4 Axes>"
      ]
     },
     "metadata": {
      "needs_background": "light"
     },
     "output_type": "display_data"
    },
    {
     "data": {
      "text/plain": [
       "(LogisticRegression(),\n",
       " 0.785529408283158,\n",
       " 0.8986736162433389,\n",
       " 0.21447059171684205,\n",
       " 0.9679635784710778,\n",
       " 0.8386409834478753)"
      ]
     },
     "execution_count": 30,
     "metadata": {},
     "output_type": "execute_result"
    }
   ],
   "source": [
    "lr = LogisticRegression()\n",
    "\n",
    "evaluate_result(lr, X_train, y_train, X_val, y_val, \"lr\")"
   ]
  }
 ],
 "metadata": {
  "interpreter": {
   "hash": "68e23a7f57ae66cbaaeb0d44a298b4f44f74c864adcc2ac0be4dd279ad965d7f"
  },
  "kernelspec": {
   "display_name": "Python 3.9.2 64-bit ('.venv': venv)",
   "language": "python",
   "name": "python3"
  },
  "language_info": {
   "codemirror_mode": {
    "name": "ipython",
    "version": 3
   },
   "file_extension": ".py",
   "mimetype": "text/x-python",
   "name": "python",
   "nbconvert_exporter": "python",
   "pygments_lexer": "ipython3",
   "version": "3.9.0"
  },
  "orig_nbformat": 4
 },
 "nbformat": 4,
 "nbformat_minor": 2
}
